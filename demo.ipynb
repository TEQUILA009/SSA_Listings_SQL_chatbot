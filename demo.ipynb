{
 "cells": [
  {
   "cell_type": "code",
   "execution_count": 1,
   "metadata": {},
   "outputs": [
    {
     "name": "stderr",
     "output_type": "stream",
     "text": [
      "d:\\sql chatbot\\sqb\\lib\\site-packages\\tqdm\\auto.py:21: TqdmWarning: IProgress not found. Please update jupyter and ipywidgets. See https://ipywidgets.readthedocs.io/en/stable/user_install.html\n",
      "  from .autonotebook import tqdm as notebook_tqdm\n"
     ]
    }
   ],
   "source": [
    "import langchain\n",
    "from langchain.llms import GooglePalm\n",
    "from langchain.llms import OpenAI\n",
    "import os\n",
    "from dotenv import load_dotenv\n",
    "load_dotenv()\n",
    "\n",
    "\n",
    "\n",
    "llm = GooglePalm(google_api_key=os.environ[\"google_palm_api\"], temperature=0.2)"
   ]
  },
  {
   "cell_type": "code",
   "execution_count": 2,
   "metadata": {},
   "outputs": [],
   "source": [
    "from langchain.utilities import SQLDatabase\n",
    "from langchain_experimental.sql import SQLDatabaseChain"
   ]
  },
  {
   "cell_type": "code",
   "execution_count": 4,
   "metadata": {},
   "outputs": [],
   "source": [
    "import sqlite3"
   ]
  },
  {
   "cell_type": "code",
   "execution_count": 8,
   "metadata": {},
   "outputs": [
    {
     "name": "stdout",
     "output_type": "stream",
     "text": [
      "\n",
      "CREATE TABLE fat (\n",
      "\t\"HEARING_OFFICE\" VARCHAR, \n",
      "\t\"AVG_Ptime_RANK\" FLOAT, \n",
      "\t\"HEARING_OFFICE_TIMES_IN_MONTHS\" FLOAT, \n",
      "\t\"HO_CODE\" FLOAT, \n",
      "\t\"SITE_CODE\" VARCHAR NOT NULL, \n",
      "\t\"RPTG_PRD_ENDT\" DATE, \n",
      "\t\"ALJ_DISPS_PER_DAY_PER_ALJ\" FLOAT, \n",
      "\t\"DISP_RANK\" FLOAT, \n",
      "\t\"WORKDAYS\" FLOAT, \n",
      "\t\"AVERAGE_PROCESSING_TIME\" FLOAT, \n",
      "\t\"CASES_PENDING\" FLOAT, \n",
      "\t\"DISPOSITIONS:\" FLOAT, \n",
      "\t\"RECEIPTS\" FLOAT, \n",
      "\t\"RPTG_PRD_STDT\" DATE, \n",
      "\tPRIMARY KEY (\"SITE_CODE\"), \n",
      "\tFOREIGN KEY(\"HEARING_OFFICE\") REFERENCES jdd (\"HEARING_OFFICE\")\n",
      ")\n",
      "\n",
      "/*\n",
      "3 rows from fat table:\n",
      "HEARING_OFFICE\tAVG_Ptime_RANK\tHEARING_OFFICE_TIMES_IN_MONTHS\tHO_CODE\tSITE_CODE\tRPTG_PRD_ENDT\tALJ_DISPS_PER_DAY_PER_ALJ\tDISP_RANK\tWORKDAYS\tAVERAGE_PROCESSING_TIME\tCASES_PENDING\tDISPOSITIONS:\tRECEIPTS\tRPTG_PRD_STDT\n",
      "TUPELO\t2.0\t7.0\t5245.0\tY49\t2024-04-26\t1.39\t121.0\t143.0\t241.0\t823.0\tNone\t949.0\t2023-09-30\n",
      "EVANSVILLE\t3.0\t7.0\t5119.0\tX84\t2024-04-26\t1.8\t35.0\t143.0\t246.0\t1100.0\tNone\t1245.0\t2023-09-30\n",
      "HOUSTON NORTH\t4.0\t7.0\t5255.0\tR38\t2024-04-26\t1.81\t34.0\t143.0\t249.0\t2439.0\tNone\t2451.0\t2023-09-30\n",
      "*/\n",
      "\n",
      "\n",
      "CREATE TABLE jdd (\n",
      "\t\"Primary\" VARCHAR NOT NULL, \n",
      "\t\"RPTG_PRD_ENDT\" DATE, \n",
      "\t\"FULLY_FAVORABLE\" FLOAT, \n",
      "\t\"JUDGE\" VARCHAR, \n",
      "\t\"HEARING_OFFICE\" VARCHAR, \n",
      "\t\"PARTIALLY_FAVORABLE\" FLOAT, \n",
      "\t\"REGION\" FLOAT, \n",
      "\t\"TOTAL_ALJ_DIPOSITIONS_ACROSS_ALL_OFFICES\" FLOAT, \n",
      "\t\"TOTAL_AWARDS\" FLOAT, \n",
      "\t\"TOTAL_DECISIONS\" FLOAT, \n",
      "\t\"RPTG_PRD_STDT\" DATE, \n",
      "\t\"TOTAL_DENIALS\" FLOAT, \n",
      "\t\"TOTAL_DISPOSITIONS\" FLOAT, \n",
      "\tPRIMARY KEY (\"Primary\")\n",
      ")\n",
      "\n",
      "/*\n",
      "3 rows from jdd table:\n",
      "Primary\tRPTG_PRD_ENDT\tFULLY_FAVORABLE\tJUDGE\tHEARING_OFFICE\tPARTIALLY_FAVORABLE\tREGION\tTOTAL_ALJ_DIPOSITIONS_ACROSS_ALL_OFFICES\tTOTAL_AWARDS\tTOTAL_DECISIONS\tRPTG_PRD_STDT\tTOTAL_DENIALS\tTOTAL_DISPOSITIONS\n",
      "Abbondondelo, Mary-SHREVEPORT-04/26/2024\t2024-04-26\t133.0\tAbbondondelo, Mary\tSHREVEPORT\t7.0\t6.0\t188.0\t140.0\t166.0\t2023-09-30\t26.0\t188.0\n",
      "Able, Devona-ALEXANDRIA-04/26/2024\t2024-04-26\t68.0\tAble, Devona\tALEXANDRIA\t31.0\t6.0\t277.0\t99.0\t243.0\t2023-09-30\t144.0\t277.0\n",
      "Adamo, Genevieve-CLEVELAND-04/26/2024\t2024-04-26\t76.0\tAdamo, Genevieve\tCLEVELAND\t33.0\t5.0\t231.0\t109.0\t210.0\t2023-09-30\t101.0\t231.0\n",
      "*/\n"
     ]
    }
   ],
   "source": [
    "db = SQLDatabase.from_uri(\"sqlite:///ssa_pdata.db\")\n",
    "\n",
    "print(db.table_info)"
   ]
  },
  {
   "cell_type": "code",
   "execution_count": 13,
   "metadata": {},
   "outputs": [
    {
     "name": "stdout",
     "output_type": "stream",
     "text": [
      "\n",
      "\n",
      "\u001b[1m> Entering new SQLDatabaseChain chain...\u001b[0m\n",
      "Find the hearing offices with the highest total awards where RPTG_PRD_ENDT is after 2024-01-01. and rank them.\n",
      "SQLQuery:\u001b[32;1m\u001b[1;3mSELECT HEARING_OFFICE, SUM(TOTAL_AWARDS) AS TOTAL_AWARDS FROM jdd WHERE RPTG_PRD_ENDT > '2024-01-01' GROUP BY HEARING_OFFICE ORDER BY TOTAL_AWARDS DESC LIMIT 5\u001b[0m\n",
      "SQLResult: \u001b[33;1m\u001b[1;3m[('INDIANAPOLIS', 1665.0), ('DALLAS NORTH OHO', 1492.0), ('SAN ANTONIO', 1462.0), ('ST LOUIS', 1341.0), ('RALEIGH', 1318.0)]\u001b[0m\n",
      "Answer:\u001b[32;1m\u001b[1;3mINDIANAPOLIS, DALLAS NORTH OHO, SAN ANTONIO, ST LOUIS, RALEIGH\u001b[0m\n",
      "\u001b[1m> Finished chain.\u001b[0m\n"
     ]
    }
   ],
   "source": [
    "qns2 = db_chain.run(\"Find the hearing offices with the highest total awards where RPTG_PRD_ENDT is after 2024-01-01. and rank them.\")"
   ]
  },
  {
   "cell_type": "code",
   "execution_count": 15,
   "metadata": {},
   "outputs": [
    {
     "name": "stdout",
     "output_type": "stream",
     "text": [
      "\n",
      "\n",
      "\u001b[1m> Entering new SQLDatabaseChain chain...\u001b[0m\n",
      "Calculate the total number of decisions and the ratio of total awards to total decisions for each hearing office.\n",
      "SQLQuery:\u001b[32;1m\u001b[1;3mSELECT hearing_office, sum(total_decisions), sum(total_awards)/sum(total_decisions) as ratio FROM jdd GROUP BY hearing_office ORDER BY ratio DESC LIMIT 5\u001b[0m\n",
      "SQLResult: \u001b[33;1m\u001b[1;3m[('QUEENS', 842.0, 0.8182897862232779), ('ROCHESTER', 560.0, 0.7732142857142857), ('PONCE', 378.0, 0.7407407407407407), ('NEW YORK VARICK', 590.0, 0.7389830508474576), ('SOUTH JERSEY', 983.0, 0.7212614445574771)]\u001b[0m\n",
      "Answer:\u001b[32;1m\u001b[1;3mQUEENS, 842.0, 0.8182897862232779\u001b[0m\n",
      "\u001b[1m> Finished chain.\u001b[0m\n"
     ]
    }
   ],
   "source": [
    "qns4 = db_chain.run(\"Calculate the total number of decisions and the ratio of total awards to total decisions for each hearing office.\")"
   ]
  },
  {
   "cell_type": "code",
   "execution_count": 30,
   "metadata": {},
   "outputs": [
    {
     "name": "stdout",
     "output_type": "stream",
     "text": [
      "\n",
      "\n",
      "\u001b[1m> Entering new SQLDatabaseChain chain...\u001b[0m\n",
      "SELECT sum(stock_quantity) FROM t_shirts WHERE brand = 'Levi' AND color = 'White'\n",
      "SQLQuery:\u001b[32;1m\u001b[1;3mSELECT sum(stock_quantity) FROM t_shirts WHERE brand = 'Levi' AND color = 'White'\u001b[0m\n",
      "SQLResult: \u001b[33;1m\u001b[1;3m[(Decimal('138'),)]\u001b[0m\n",
      "Answer:\u001b[32;1m\u001b[1;3m138\u001b[0m\n",
      "\u001b[1m> Finished chain.\u001b[0m\n"
     ]
    }
   ],
   "source": [
    "qns5 = db_chain.run(\"SELECT sum(stock_quantity) FROM t_shirts WHERE brand = 'Levi' AND color = 'White'\")"
   ]
  },
  {
   "cell_type": "code",
   "execution_count": 17,
   "metadata": {},
   "outputs": [
    {
     "name": "stdout",
     "output_type": "stream",
     "text": [
      "\n",
      "\n",
      "\u001b[1m> Entering new SQLDatabaseChain chain...\u001b[0m\n",
      "Calculate the total number of decisions and denials made by each judge.\n",
      "SQLQuery:\u001b[32;1m\u001b[1;3mSELECT judge, sum(total_decisions), sum(total_denials) FROM jdd GROUP BY judge ORDER BY sum(total_decisions) DESC LIMIT 5\u001b[0m\n",
      "SQLResult: \u001b[33;1m\u001b[1;3m[('Hansen, Dennis', 332.0, 156.0), ('Stubblefield, Ross', 308.0, 176.0), ('Jacques, Meredith L', 303.0, 163.0), ('Ciegel, Jeffrey S', 303.0, 172.0), ('Shinn, Charles', 302.0, 121.0)]\u001b[0m\n",
      "Answer:\u001b[32;1m\u001b[1;3mHansen, Dennis: 332, 156\n",
      "Stubblefield, Ross: 308, 176\n",
      "Jacques, Meredith L: 303, 163\n",
      "Ciegel, Jeffrey S: 303, 172\n",
      "Shinn, Charles: 302, 121\u001b[0m\n",
      "\u001b[1m> Finished chain.\u001b[0m\n"
     ]
    }
   ],
   "source": [
    "qns6 = db_chain.run(\"Calculate the total number of decisions and denials made by each judge.\")"
   ]
  },
  {
   "cell_type": "code",
   "execution_count": 18,
   "metadata": {},
   "outputs": [
    {
     "name": "stdout",
     "output_type": "stream",
     "text": [
      "\n",
      "\n",
      "\u001b[1m> Entering new SQLDatabaseChain chain...\u001b[0m\n",
      "Calculate the average and total processing time by hearing office.\n",
      "SQLQuery:\u001b[32;1m\u001b[1;3mSELECT AVG(AVERAGE_PROCESSING_TIME), SUM(AVERAGE_PROCESSING_TIME) FROM fat GROUP BY HEARING_OFFICE\u001b[0m\n",
      "SQLResult: \u001b[33;1m\u001b[1;3m[(249.0, 249.0), (361.0, 361.0), (309.0, 309.0), (356.0, 356.0), (409.0, 409.0), (313.0, 313.0), (532.0, 532.0), (418.0, 418.0), (299.0, 299.0), (366.0, 366.0), (520.0, 520.0), (383.0, 383.0), (407.0, 407.0), (314.0, 314.0), (378.0, 378.0), (369.0, 369.0), (336.0, 336.0), (300.0, 300.0), (308.0, 308.0), (278.0, 278.0), (355.0, 355.0), (374.0, 374.0), (274.0, 274.0), (310.0, 310.0), (389.0, 389.0), (354.0, 354.0), (347.0, 347.0), (319.0, 319.0), (349.0, 349.0), (303.0, 303.0), (325.0, 325.0), (435.0, 435.0), (336.0, 336.0), (429.0, 429.0), (297.0, 297.0), (246.0, 246.0), (326.0, 326.0), (323.0, 323.0), (315.0, 315.0), (268.0, 268.0), (305.0, 305.0), (287.0, 287.0), (264.0, 264.0), (330.0, 330.0), (256.0, 256.0), (555.0, 555.0), (298.0, 298.0), (251.0, 251.0), (388.0, 388.0), (271.0, 271.0), (432.0, 432.0), (315.0, 315.0), (281.0, 281.0), (544.0, 544.0), (249.0, 249.0), (342.0, 342.0), (393.0, 393.0), (330.0, 330.0), (264.0, 264.0), (307.0, 307.0), (328.0, 328.0), (370.0, 370.0), (314.0, 314.0), (252.0, 252.0), (294.0, 294.0), (272.0, 272.0), (423.0, 423.0), (450.0, 450.0), (291.0, 291.0), (440.0, 440.0), (283.0, 283.0), (427.0, 427.0), (358.0, 358.0), (481.0, 481.0), (420.0, 420.0), (313.0, 313.0), (323.0, 323.0), (278.0, 278.0), (371.0, 371.0), (318.0, 318.0), (392.0, 392.0), (371.0, 371.0), (331.0, 331.0), (289.0, 289.0), (317.0, 317.0), (305.0, 305.0), (278.0, 278.0), (261.0, 261.0), (472.0, 472.0), (334.0, 334.0), (328.0, 328.0), (253.0, 253.0), (334.0, 334.0), (366.0, 366.0), (413.0, 413.0), (312.0, 312.0), (414.0, 414.0), (423.0, 423.0), (338.0, 338.0), (298.0, 298.0), (271.0, 271.0), (563.0, 563.0), (515.0, 515.0), (289.0, 289.0), (381.0, 381.0), (319.0, 319.0), (329.0, 329.0), (259.0, 259.0), (393.0, 393.0), (283.0, 283.0), (364.0, 364.0), (576.0, 576.0), (339.0, 339.0), (418.0, 418.0), (383.0, 383.0), (709.0, 709.0), (378.0, 378.0), (385.0, 385.0), (282.0, 282.0), (428.0, 428.0), (332.0, 332.0), (476.0, 476.0), (484.0, 484.0), (256.0, 256.0), (437.0, 437.0), (378.0, 378.0), (488.0, 488.0), (314.0, 314.0), (333.0, 333.0), (324.0, 324.0), (495.0, 495.0), (436.0, 436.0), (487.0, 487.0), (575.0, 575.0), (376.0, 376.0), (719.0, 719.0), (364.0, 364.0), (529.0, 529.0), (313.0, 313.0), (494.0, 494.0), (541.0, 541.0), (417.0, 417.0), (396.0, 396.0), (404.0, 404.0), (318.0, 318.0), (371.0, 371.0), (265.0, 265.0), (439.0, 439.0), (290.0, 290.0), (353.0, 353.0), (263.0, 263.0), (328.0, 328.0), (284.0, 284.0), (253.0, 253.0), (355.0, 355.0), (312.0, 312.0), (241.0, 241.0), (285.0, 285.0), (450.0, 450.0), (294.0, 294.0), (359.0, 359.0), (396.0, 396.0)]\u001b[0m\n",
      "Answer:\u001b[32;1m\u001b[1;3m[(263.0, 263.0), (371.0, 371.0), (309.0, 309.0), (356.0, 356.0), (409.0, 409.0), (313.0, 313.0), (532.0, 532.0), (418.0, 418.0), (299.0, 299.0), (366.0, 366.0), (520.0, 520.0), (383.0, 383.0), (407.0, 407.0), (314.0, 314.0), (378.0, 378.0), (369.0, 369.0), (336.0, 336.0), (300.0, 300.0), (308.0, 308.0), (278.0, 278.0), (355.0, 355.0), (374.0, 374.0), (274.0, 274.0), (310.0, 310.0), (389.0, 389.0), (354.0, 354.0), (347.0, 347.0), (319.0, 319.0), (349.0, 349.0), (303.0, 303.0), (325.0, 325.0), (435.0, 435.0), (336.0, 336.0), (429.0, 429.0), (297.0, 297.0), (246.0, 246.0), (326.0, 326.0), (323.0, 323.0), (315.0, 315.0), (268.0, 268.0), (305.0, 305.0), (287.0, 287.0), (264.0, 264.0), (330.0, 330.0), (256.0, 256.0), (555.0, 555.0), (298.0, 298.0), (251.0, 251.0), (388.0, 388.0), (271.0, 271.0), (432.0, 432.0), (315.0, 315.0), (281.0, 281.0), (544.0, 544.0), (249.0, 249.0), (342.0, 342.0), (393.0, 393.0), (330.0, 330.0), (264.0, 264.0), (307.0, 307.0), (328.0, 328.0), (370.0, 370.0), (314.0, 314.0), (252.0, 252.0), (294.0, 294.0), (272.0, 272.0), (423.0, 423.0), (450.0, 450.0), (291.0, 291.0), (440.0, 440.0), (283.0, 283.0), (427.0, 427.0), (358.0, 358.0), (4\u001b[0m\n",
      "\u001b[1m> Finished chain.\u001b[0m\n"
     ]
    }
   ],
   "source": [
    "qns7 = db_chain.run(\"Calculate the average and total processing time by hearing office.\")"
   ]
  },
  {
   "cell_type": "code",
   "execution_count": 19,
   "metadata": {},
   "outputs": [
    {
     "name": "stdout",
     "output_type": "stream",
     "text": [
      "\n",
      "\n",
      "\u001b[1m> Entering new SQLDatabaseChain chain...\u001b[0m\n",
      "Calculate the total number of ALJ dispositions across all offices grouped by region.\n",
      "SQLQuery:\u001b[32;1m\u001b[1;3mSELECT REGION, SUM(TOTAL_ALJ_DIPOSITIONS_ACROSS_ALL_OFFICES) AS TOTAL_ALJ_DIPOSITIONS FROM jdd GROUP BY REGION\u001b[0m\n",
      "SQLResult: \u001b[33;1m\u001b[1;3m[(1.0, 11125.0), (2.0, 21007.0), (3.0, 24520.0), (4.0, 67358.0), (5.0, 46116.0), (6.0, 36234.0), (7.0, 12592.0), (8.0, 6960.0), (9.0, 28772.0), (10.0, 8360.0), (12.0, 8928.0)]\u001b[0m\n",
      "Answer:\u001b[32;1m\u001b[1;3m[('1.0', 11125.0), ('2.0', 21007.0), ('3.0', 24520.0), ('4.0', 67358.0), ('5.0', 46116.0), ('6.0', 36234.0), ('7.0', 12592.0), ('8.0', 6960.0), ('9.0', 28772.0), ('10.0', 8360.0), ('12.0', 8928.0)]\u001b[0m\n",
      "\u001b[1m> Finished chain.\u001b[0m\n"
     ]
    }
   ],
   "source": [
    "qns8 = db_chain.run(\"Calculate the total number of ALJ dispositions across all offices grouped by region.\")"
   ]
  },
  {
   "cell_type": "code",
   "execution_count": 20,
   "metadata": {},
   "outputs": [],
   "source": [
    "few_shots = [\n",
    "    {'Question' : \"Calculate the total awards and denials for each region, only considering records where the number of workdays is greater than 20.\",\n",
    "     'SQLQuery' : \"SELECT jdd.REGION, SUM(jdd.TOTAL_AWARDS) AS Total_Awards, SUM(jdd.TOTAL_DENIALS) AS Total_Denials FROM jdd JOIN fat ON jdd.HEARING_OFFICE = fat.HEARING_OFFICE WHERE fat.WORKDAYS > 20 GROUP BY jdd.REGION;\",\n",
    "     'SQLResult': \"Result of the SQL query\",\n",
    "     'Answer' : '''(1.0, 4422.0, 3346.0)\n",
    "(2.0, 10482.0, 5624.0)\n",
    "(3.0, 10402.0, 7776.0)\n",
    "(4.0, 29753.0, 21134.0)\n",
    "(5.0, 21280.0, 15624.0)\n",
    "(6.0, 12928.0, 10765.0)\n",
    "(7.0, 5153.0, 4926.0)\n",
    "(8.0, 2995.0, 2497.0)\n",
    "(9.0, 10869.0, 7426.0)\n",
    "(10.0, 3540.0, 2228.0)\n",
    "(12.0, 796.0, 527.0)'''},\n",
    "    {'Question': \"Get the total number of decisions and average processing time per hearing office where RPTG_PRD_ENDT is after 2024-04-26.\",\n",
    "     'SQLQuery':\"SELECT jdd.HEARING_OFFICE, SUM(jdd.TOTAL_DECISIONS) AS Total_Decisions, AVG(fat.AVERAGE_PROCESSING_TIME) AS Avg_Processing_Time FROM jdd JOIN fat ON jdd.HEARING_OFFICE = fat.HEARING_OFFICE WHERE jdd.RPTG_PRD_ENDT = '2024-04-26' AND fat.RPTG_PRD_ENDT = '2024-04-26' GROUP BY jdd.HEARING_OFFICE;\",\n",
    "     'SQLResult': \"Result of the SQL query\",\n",
    "     'Answer': '''('AKRON OH', 1762.0, 249.0)\n",
    "('ALBANY', 1517.0, 361.0)\n",
    "('ALBUQUERQUE', 878.0, 309.0)\n",
    "('ALEXANDRIA', 1536.0, 356.0)\n",
    "('ATLANTA DOWNTOWN', 1642.0, 409.0)\n",
    "('ATLANTA NORTH', 1054.0, 313.0)\n",
    "('BALTIMORE', 1251.0, 532.0)\n",
    "('BILLINGS', 826.0, 418.0)\n",
    "('BIRMINGHAM', 1733.0, 299.0)\n",
    "('BOSTON', 874.0, 366.0)\n",
    "('BRONX', 810.0, 520.0)\n",
    "('BUFFALO', 1140.0, 383.0)\n",
    "('CHARLESTON SC', 777.0, 407.0)\n",
    "('CHARLESTON WV', 1115.0, 314.0)\n",
    "('CHARLOTTE', 1751.0, 378.0)\n",
    "('CHARLOTTESVILLE', 596.0, 369.0)\n",
    "('CHATTANOOGA', 1331.0, 336.0)\n",
    "('CHICAGO', 1936.0, 300.0)\n",
    "('CINCINNATI', 1161.0, 308.0)\n",
    "('CLEVELAND', 2409.0, 278.0)\n",
    "('COLORADO SPRINGS', 1026.0, 355.0)\n",
    "('COLUMBIA MO', 549.0, 374.0)\n",
    "('COLUMBIA SC', 1856.0, 274.0)\n",
    "('COLUMBUS', 1836.0, 310.0)\n",
    "('COVINGTON GA', 1348.0, 389.0)\n",
    "('DALLAS DOWNTOWN', 1209.0, 354.0)\n",
    "('DALLAS NORTH OHO', 2453.0, 347.0)\n",
    "('DAYTON', 900.0, 319.0)\n",
    "('DENVER', 1665.0, 349.0)\n",
    "('DES MOINES', 1447.0, 303.0)\n",
    "('DETROIT', 1686.0, 325.0)\n",
    "('DOVER', 431.0, 435.0)\n",
    "('ELKINS PARK', 1828.0, 336.0)\n",
    "('EUGENE', 901.0, 429.0)\n",
    "('EVANSTON', 1708.0, 297.0)\n",
    "('EVANSVILLE', 1215.0, 246.0)\n",
    "('FARGO', 906.0, 326.0)\n",
    "('FAYETTEVILLE NC', 1579.0, 323.0)\n",
    "('FLINT', 1444.0, 315.0)\n",
    "('FLORENCE', 916.0, 268.0)\n",
    "('FORT MYERS FL', 807.0, 305.0)\n",
    "('FORT SMITH', 1043.0, 287.0)\n",
    "('FORT WAYNE', 1120.0, 264.0)\n",
    "('FORT WORTH', 1577.0, 330.0)\n",
    "('FRANKLIN TN', 1730.0, 256.0)\n",
    "('FRESNO', 850.0, 555.0)\n",
    "('FT LAUDERDALE', 1837.0, 298.0)\n",
    "('GRAND RAPIDS', 1450.0, 251.0)\n",
    "('GREENSBORO', 1368.0, 388.0)\n",
    "('GREENVILLE', 1429.0, 271.0)\n",
    "('HARRISBURG', 951.0, 432.0)\n",
    "('HARTFORD', 1091.0, 315.0)\n",
    "('HATTIESBURG', 1451.0, 281.0)\n",
    "('HONOLULU', 613.0, 544.0)\n",
    "('HOUSTON NORTH', 2101.0, 249.0)\n",
    "('HOUSTON WEST', 1498.0, 342.0)\n",
    "('HUNTINGTON WV', 931.0, 393.0)\n",
    "('INDIANAPOLIS', 2671.0, 330.0)\n",
    "('JACKSON MS OHO', 759.0, 264.0)\n",
    "('JACKSONVILLE', 1728.0, 307.0)\n",
    "('JERSEY CITY', 1463.0, 328.0)\n",
    "('JOHNSTOWN', 843.0, 370.0)\n",
    "('KANSAS CITY', 2290.0, 314.0)\n",
    "('KINGSPORT', 1533.0, 252.0)\n",
    "('KNOXVILLE', 1229.0, 294.0)\n",
    "('LANSING', 1294.0, 272.0)\n",
    "('LAS VEGAS', 909.0, 423.0)\n",
    "('LAWRENCE MA', 992.0, 450.0)\n",
    "('LEXINGTON', 2297.0, 291.0)\n",
    "('LITTLE ROCK', 1558.0, 440.0)\n",
    "('LIVONIA MI', 1572.0, 283.0)\n",
    "('LONG BEACH', 375.0, 427.0)\n",
    "('LONG ISLAND', 1168.0, 358.0)\n",
    "('LOS ANGELES DOWNTOWN', 667.0, 481.0)\n",
    "('LOS ANGELES WEST', 1119.0, 420.0)\n",
    "('LOUISVILLE', 1530.0, 313.0)\n",
    "('MACON', 1278.0, 323.0)\n",
    "('MADISON', 1174.0, 278.0)\n",
    "('MANCHESTER', 1304.0, 371.0)\n",
    "('MCALESTER', 548.0, 318.0)\n",
    "('MEMPHIS', 1372.0, 392.0)\n",
    "('METAIRIE', 932.0, 371.0)\n",
    "('MIAMI OHO', 1032.0, 331.0)\n",
    "('MIDDLESBORO', 801.0, 289.0)\n",
    "('MILWAUKEE', 986.0, 317.0)\n",
    "('MINNEAPOLIS', 1985.0, 305.0)\n",
    "('MOBILE', 1522.0, 278.0)\n",
    "('MONTGOMERY', 1412.0, 261.0)\n",
    "('MORENO VALLEY', 1072.0, 472.0)\n",
    "('MORGANTOWN', 879.0, 334.0)\n",
    "('MT PLEASANT MI', 1059.0, 328.0)\n",
    "('NASHVILLE', 1068.0, 253.0)\n",
    "('NEW HAVEN', 923.0, 334.0)\n",
    "('NEW ORLEANS', 974.0, 366.0)\n",
    "('NEW YORK', 1006.0, 413.0)\n",
    "('NEW YORK VARICK', 590.0, 312.0)\n",
    "('NEWARK', 1581.0, 414.0)\n",
    "('NORFOLK', 1006.0, 423.0)\n",
    "('NORWALK', 852.0, 338.0)\n",
    "('OAK BROOK', 720.0, 298.0)\n",
    "('OAK PARK', 1751.0, 271.0)\n",
    "('OAKLAND', 928.0, 563.0)\n",
    "('OKLAHOMA CITY', 1680.0, 515.0)\n",
    "('OMAHA', 1180.0, 289.0)\n",
    "('ORANGE', 1219.0, 381.0)\n",
    "('ORLAND PARK', 1726.0, 319.0)\n",
    "('ORLANDO', 1822.0, 329.0)\n",
    "('PADUCAH', 817.0, 259.0)\n",
    "('PASADENA', 888.0, 393.0)\n",
    "('PEORIA', 985.0, 283.0)\n",
    "('PHILADELPHIA', 1070.0, 364.0)\n",
    "('PHILADELPHIA EAST', 428.0, 576.0)\n",
    "('PHOENIX DOWNTOWN', 1055.0, 339.0)\n",
    "('PHOENIX NORTH', 655.0, 418.0)\n",
    "('PITTSBURGH', 1098.0, 383.0)\n",
    "('PONCE', 378.0, 709.0)\n",
    "('PORTLAND ME', 674.0, 378.0)\n",
    "('PORTLAND OR', 1688.0, 385.0)\n",
    "('PROVIDENCE', 1238.0, 282.0)\n",
    "('QUEENS', 842.0, 428.0)\n",
    "('RALEIGH', 2060.0, 332.0)\n",
    "('RENO', 133.0, 476.0)\n",
    "('RICHMOND', 742.0, 484.0)\n",
    "('RIO GRANDE VALLEY TX', 709.0, 256.0)\n",
    "('ROANOKE', 686.0, 437.0)\n",
    "('ROCHESTER', 560.0, 378.0)\n",
    "('SACRAMENTO', 1274.0, 488.0)\n",
    "('SALT LAKE CITY', 1069.0, 314.0)\n",
    "('SAN ANTONIO', 2925.0, 333.0)\n",
    "('SAN BERNARDINO', 1035.0, 324.0)\n",
    "('SAN DIEGO', 1039.0, 495.0)\n",
    "('SAN FRANCISCO', 789.0, 436.0)\n",
    "('SAN JOSE', 551.0, 487.0)\n",
    "('SAN JUAN', 1367.0, 575.0)\n",
    "('SAN RAFAEL', 515.0, 376.0)\n",
    "('SANTA BARBARA', 411.0, 719.0)\n",
    "('SAVANNAH', 929.0, 364.0)\n",
    "('SEATTLE', 1471.0, 529.0)\n",
    "('SEVEN FIELDS', 1409.0, 313.0)\n",
    "('SHREVEPORT', 791.0, 494.0)\n",
    "('SOUTH JERSEY', 983.0, 541.0)\n",
    "('SPECIAL REVIEW CADRE', 1323.0, 417.0)\n",
    "('SPOKANE', 916.0, 396.0)\n",
    "('SPRINGFIELD MA', 672.0, 404.0)\n",
    "('SPRINGFIELD MO', 1082.0, 318.0)\n",
    "('ST LOUIS', 2467.0, 371.0)\n",
    "('ST PETERSBURG FL OHO', 1156.0, 265.0)\n",
    "('STOCKTON', 457.0, 439.0)\n",
    "('SYRACUSE', 1576.0, 290.0)\n",
    "('TACOMA', 792.0, 353.0)\n",
    "('TALLAHASSEE FL OHO', 1000.0, 263.0)\n",
    "('TAMPA OHO', 2121.0, 328.0)\n",
    "('TOLEDO OH', 1331.0, 284.0)\n",
    "('TOPEKA KS', 518.0, 253.0)\n",
    "('TUCSON', 889.0, 355.0)\n",
    "('TULSA OHO', 1281.0, 312.0)\n",
    "('TUPELO', 812.0, 241.0)\n",
    "('VALPARAISO IN', 1023.0, 285.0)\n",
    "('WASHINGTON', 1294.0, 450.0)\n",
    "('WHITE PLAINS', 1125.0, 294.0)\n",
    "('WICHITA', 546.0, 359.0)\n",
    "('WILKES BARRE', 1620.0, 396.0)'''},\n",
    "    {'Question': \"Calculate the average number of ALJ dispositions per day per ALJ for each region.\" ,\n",
    "     'SQLQuery' : \"SELECT jdd.REGION, AVG(fat.ALJ_DISPS_PER_DAY_PER_ALJ) AS Avg_Dispositions_Per_Day_Per_ALJ FROM jdd JOIN fat ON jdd.HEARING_OFFICE = fat.HEARING_OFFICE WHERE jdd.RPTG_PRD_ENDT = '2024-04-26' AND jdd.RPTG_PRD_STDT = '2023-09-30' GROUP BY jdd.REGION;\",\n",
    "     'SQLResult': \"Result of the SQL query\",\n",
    "     'Answer': '''(1.0, 1.5686206896551733)\n",
    "(2.0, 1.3401562500000002)\n",
    "(3.0, 1.5584375000000006)\n",
    "(4.0, 1.4300558659217875)\n",
    "(5.0, 1.731504854368932)\n",
    "(6.0, 1.6405847953216386)\n",
    "(7.0, 1.6262686567164184)\n",
    "(8.0, 1.8066666666666669)\n",
    "(9.0, 1.592666666666667)\n",
    "(10.0, 1.7065789473684205)\n",
    "(12.0, 1.0999999999999999)'''} ,\n",
    "     {'Question' : \"Calculate the total number of ALJ dispositions across all offices grouped by region.\" ,\n",
    "      'SQLQuery': \"SELECT jdd.REGION, SUM(jdd.TOTAL_ALJ_DIPOSITIONS_ACROSS_ALL_OFFICES) AS Total_ALJ_Dispositions FROM jddWHERE RPTG_PRD_ENDT = '2024-04-26' AND RPTG_PRD_STDT = '2023-09-30' GROUP BY jdd.REGION;\",\n",
    "      'SQLResult': \"Result of the SQL query\",\n",
    "      'Answer' : '''(1.0, 11125.0)\n",
    "(2.0, 21007.0)\n",
    "(3.0, 24520.0)\n",
    "(4.0, 67358.0)\n",
    "(5.0, 46116.0)\n",
    "(6.0, 36234.0)\n",
    "(7.0, 12592.0)\n",
    "(8.0, 6960.0)\n",
    "(9.0, 28772.0)\n",
    "(10.0, 8360.0)\n",
    "(12.0, 8928.0)'''},\n",
    "    {'Question': \"Calculate the average and total processing time by hearing office.\",\n",
    "     'SQLQuery' : \"SELECT fat.HEARING_OFFICE, AVG(fat.AVERAGE_PROCESSING_TIME) AS Avg_Processing_Time, SUM(fat.AVERAGE_PROCESSING_TIME * fat.DISPOSITIONS) AS Total_Processing_Time FROM fat JOIN jdd ON fat.HEARING_OFFICE = jdd.HEARING_OFFICE WHERE jdd.RPTG_PRD_ENDT = '2024-04-26' AND jdd.RPTG_PRD_STDT = '2023-09-30' GROUP BY fat.HEARING_OFFICE;\",\n",
    "     'SQLResult': \"Result of the SQL query\",\n",
    "     'Answer' : ''' ('AKRON OH', 249.0, 5634123.0)\n",
    "('ALBANY', 361.0, 6270570.0)\n",
    "('ALBUQUERQUE', 309.0, 4093632.0)\n",
    "('ALEXANDRIA', 356.0, 8210072.0)\n",
    "('ATLANTA DOWNTOWN', 409.0, 13759987.0)\n",
    "('ATLANTA NORTH', 313.0, 3887460.0)\n",
    "('BALTIMORE', 532.0, 10510192.0)\n",
    "('BILLINGS', 418.0, 2106720.0)\n",
    "('BIRMINGHAM', 299.0, 7793435.0)\n",
    "('BOSTON', 366.0, 5693130.0)\n",
    "('BRONX', 520.0, 9820720.0)\n",
    "('BUFFALO', 383.0, 3509429.0)\n",
    "('CHARLESTON SC', 407.0, 3045581.0)\n",
    "('CHARLESTON WV', 314.0, 2370072.0)\n",
    "('CHARLOTTE', 378.0, 9421272.0)\n",
    "('CHARLOTTESVILLE', 369.0, 1039104.0)\n",
    "('CHATTANOOGA', 336.0, 5359200.0)\n",
    "('CHICAGO', 300.0, 7458000.0)\n",
    "('CINCINNATI', 308.0, 2572416.0)\n",
    "('CLEVELAND', 278.0, 10252918.0)\n",
    "('COLORADO SPRINGS', 355.0, 2619900.0)\n",
    "('COLUMBIA MO', 374.0, 733788.0)\n",
    "('COLUMBIA SC', 274.0, 7019880.0)\n",
    "('COLUMBUS', 310.0, 7426980.0)\n",
    "('COVINGTON GA', 389.0, 5573592.0)\n",
    "('DALLAS DOWNTOWN', 354.0, 5455140.0)\n",
    "('DALLAS NORTH OHO', 347.0, 12721020.0)\n",
    "('DAYTON', 319.0, 2069034.0)\n",
    "('DENVER', 349.0, 8334120.0)\n",
    "('DES MOINES', 303.0, 4709529.0)\n",
    "('DETROIT', 325.0, 7667400.0)\n",
    "('DOVER', 435.0, 677295.0)\n",
    "('ELKINS PARK', 336.0, 8959104.0)\n",
    "('EUGENE', 429.0, 2782494.0)\n",
    "('EVANSTON', 297.0, 4683096.0)\n",
    "('EVANSVILLE', 246.0, 2101824.0)\n",
    "('FARGO', 326.0, 1392672.0)\n",
    "('FAYETTEVILLE NC', 323.0, 4108237.0)\n",
    "('FLINT', 315.0, 3585330.0)\n",
    "('FLORENCE', 268.0, 3121932.0)\n",
    "('FORT MYERS FL', 305.0, 2030385.0)\n",
    "('FORT SMITH', 287.0, 2013018.0)\n",
    "('FORT WAYNE', 264.0, 1676400.0)\n",
    "('FORT WORTH', 330.0, 6253500.0)\n",
    "('FRANKLIN TN', 256.0, 5491200.0)\n",
    "('FRESNO', 555.0, 2935950.0)\n",
    "('FT LAUDERDALE', 298.0, 9668610.0)\n",
    "('GRAND RAPIDS', 251.0, 2496948.0)\n",
    "('GREENSBORO', 388.0, 4857760.0)\n",
    "('GREENVILLE', 271.0, 4766619.0)\n",
    "('HARRISBURG', 432.0, 4351104.0)\n",
    "('HARTFORD', 315.0, 2747430.0)\n",
    "('HATTIESBURG', 281.0, 4737660.0)\n",
    "('HONOLULU', 544.0, 1243584.0)\n",
    "('HOUSTON NORTH', 249.0, 6122910.0)\n",
    "('HOUSTON WEST', 342.0, 7707312.0)\n",
    "('HUNTINGTON WV', 393.0, 2187045.0)\n",
    "('INDIANAPOLIS', 330.0, 11971080.0)\n",
    "('JACKSON MS OHO', 264.0, 1232880.0)\n",
    "('JACKSONVILLE', 307.0, 7041045.0)\n",
    "('JERSEY CITY', 328.0, 4959360.0)\n",
    "('JOHNSTOWN', 370.0, 1437080.0)\n",
    "('KANSAS CITY', 314.0, 9887232.0)\n",
    "('KINGSPORT', 252.0, 3483648.0)\n",
    "('KNOXVILLE', 294.0, 3839346.0)\n",
    "('LANSING', 272.0, 2359872.0)\n",
    "('LAS VEGAS', 423.0, 5181750.0)\n",
    "('LAWRENCE MA', 450.0, 3159000.0)\n",
    "('LEXINGTON', 291.0, 8370615.0)\n",
    "('LITTLE ROCK', 440.0, 9379920.0)\n",
    "('LIVONIA MI', 283.0, 3563819.0)\n",
    "('LONG BEACH', 427.0, 1031205.0)\n",
    "('LONG ISLAND', 358.0, 3786208.0)\n",
    "('LOS ANGELES DOWNTOWN', 481.0, 2005770.0)\n",
    "('LOS ANGELES WEST', 420.0, 5496120.0)\n",
    "('LOUISVILLE', 313.0, 6410866.0)\n",
    "('MACON', 323.0, 3264884.0)\n",
    "('MADISON', 278.0, 2246796.0)\n",
    "('MANCHESTER', 371.0, 4656792.0)\n",
    "('MCALESTER', 318.0, 613422.0)\n",
    "('MEMPHIS', 392.0, 4667544.0)\n",
    "('METAIRIE', 371.0, 2468634.0)\n",
    "('MIAMI OHO', 331.0, 3140528.0)\n",
    "('MIDDLESBORO', 289.0, 1859137.0)\n",
    "('MILWAUKEE', 317.0, 1905170.0)\n",
    "('MINNEAPOLIS', 305.0, 9289995.0)\n",
    "('MOBILE', 278.0, 7087332.0)\n",
    "('MONTGOMERY', 261.0, 4115970.0)\n",
    "('MORENO VALLEY', 472.0, 4467008.0)\n",
    "('MORGANTOWN', 334.0, 2156304.0)\n",
    "('MT PLEASANT MI', 328.0, 2438352.0)\n",
    "('NASHVILLE', 253.0, 2250941.0)\n",
    "('NEW HAVEN', 334.0, 2206404.0)\n",
    "('NEW ORLEANS', 366.0, 5235264.0)\n",
    "('NEW YORK', 413.0, 5112940.0)\n",
    "('NEW YORK VARICK', 312.0, 1073280.0)\n",
    "('NEWARK', 414.0, 8730018.0)\n",
    "('NORFOLK', 423.0, 3710133.0)\n",
    "('NORWALK', 338.0, 2046252.0)\n",
    "('OAK BROOK', 298.0, 1263520.0)\n",
    "('OAK PARK', 271.0, 6003734.0)\n",
    "('OAKLAND', 563.0, 7144470.0)\n",
    "('OKLAHOMA CITY', 515.0, 22720770.0)\n",
    "('OMAHA', 289.0, 2767464.0)\n",
    "('ORANGE', 381.0, 3300984.0)\n",
    "('ORLAND PARK', 319.0, 7189941.0)\n",
    "('ORLANDO', 329.0, 8102941.0)\n",
    "('PADUCAH', 259.0, 1271690.0)\n",
    "('PASADENA', 393.0, 2035740.0)\n",
    "('PEORIA', 283.0, 1925532.0)\n",
    "('PHILADELPHIA', 364.0, 3564652.0)\n",
    "('PHILADELPHIA EAST', 576.0, 3514752.0)\n",
    "('PHOENIX DOWNTOWN', 339.0, 3604248.0)\n",
    "('PHOENIX NORTH', 418.0, 2475396.0)\n",
    "('PITTSBURGH', 383.0, 4142528.0)\n",
    "('PONCE', 709.0, 855054.0)\n",
    "('PORTLAND ME', 378.0, 1587600.0)\n",
    "('PORTLAND OR', 385.0, 5987520.0)\n",
    "('PROVIDENCE', 282.0, 2436480.0)\n",
    "('QUEENS', 428.0, 2575704.0)\n",
    "('RALEIGH', 332.0, 10310924.0)\n",
    "('RENO', 476.0, 83300.0)\n",
    "('RICHMOND', 484.0, 3394776.0)\n",
    "('RIO GRANDE VALLEY TX', 256.0, 812032.0)\n",
    "('ROANOKE', 437.0, 1414132.0)\n",
    "('ROCHESTER', 378.0, 1270080.0)\n",
    "('SACRAMENTO', 488.0, 9726816.0)\n",
    "('SALT LAKE CITY', 314.0, 2437896.0)\n",
    "('SAN ANTONIO', 333.0, 20655324.0)\n",
    "('SAN BERNARDINO', 324.0, 3910680.0)\n",
    "('SAN DIEGO', 495.0, 5437080.0)\n",
    "('SAN FRANCISCO', 436.0, 2542752.0)\n",
    "('SAN JOSE', 487.0, 2365846.0)\n",
    "('SAN JUAN', 575.0, 10522500.0)\n",
    "('SAN RAFAEL', 376.0, 994144.0)\n",
    "('SANTA BARBARA', 719.0, 2411526.0)\n",
    "('SAVANNAH', 364.0, 2598960.0)\n",
    "('SEATTLE', 529.0, 11125928.0)\n",
    "('SEVEN FIELDS', 313.0, 3512173.0)\n",
    "('SHREVEPORT', 494.0, 2292160.0)\n",
    "('SOUTH JERSEY', 541.0, 5764896.0)\n",
    "('SPECIAL REVIEW CADRE', 417.0, 9643959.0)\n",
    "('SPOKANE', 396.0, 2858328.0)\n",
    "('SPRINGFIELD MA', 404.0, 1658420.0)\n",
    "('SPRINGFIELD MO', 318.0, 3497364.0)\n",
    "('ST LOUIS', 371.0, 21309127.0)\n",
    "('ST PETERSBURG FL OHO', 265.0, 3193515.0)\n",
    "('STOCKTON', 439.0, 962288.0)\n",
    "('SYRACUSE', 290.0, 4278080.0)\n",
    "('TACOMA', 353.0, 2513007.0)\n",
    "('TALLAHASSEE FL OHO', 263.0, 2106104.0)\n",
    "('TAMPA OHO', 328.0, 13616592.0)\n",
    "('TOLEDO OH', 284.0, 4362240.0)\n",
    "('TOPEKA KS', 253.0, 476652.0)\n",
    "('TUCSON', 355.0, 2259930.0)\n",
    "('TULSA OHO', 312.0, 3716544.0)\n",
    "('TUPELO', 241.0, 1141135.0)\n",
    "('VALPARAISO IN', 285.0, 2036610.0)\n",
    "('WASHINGTON', 450.0, 6698700.0)\n",
    "('WHITE PLAINS', 294.0, 2613660.0)\n",
    "('WICHITA', 359.0, 1195470.0)\n",
    "('WILKES BARRE', 396.0, 8420148.0)'''\n",
    "     }\n",
    "]"
   ]
  },
  {
   "cell_type": "code",
   "execution_count": 21,
   "metadata": {},
   "outputs": [],
   "source": [
    "from langchain.prompts import SemanticSimilarityExampleSelector\n",
    "from langchain.embeddings import HuggingFaceEmbeddings\n",
    "from langchain.embeddings import OpenAIEmbeddings\n",
    "from langchain.vectorstores import Chroma\n",
    "from langchain.text_splitter import RecursiveCharacterTextSplitter\n",
    "from langchain.text_splitter import CharacterTextSplitter\n",
    "from langchain.schema.document import Document\n",
    "from langchain.vectorstores import FAISS\n",
    "embeddings = OpenAIEmbeddings()\n",
    "\n",
    "to_vectorize = [\" \".join(example.values()) for example in few_shots]\n",
    "\n",
    "docs = [Document(page_content=x) for x in to_vectorize]\n",
    "\n"
   ]
  },
  {
   "cell_type": "code",
   "execution_count": 63,
   "metadata": {},
   "outputs": [
    {
     "data": {
      "text/plain": [
       "[\"How many t-shirts do we have left for Nike in XS size and white color? SELECT sum(stock_quantity) FROM t_shirts WHERE brand = 'Nike' AND color = 'White' AND size = 'XS' Result of the SQL query 91\",\n",
       " \"How much is the total price of the inventory for all S-size t-shirts? SELECT SUM(price*stock_quantity) FROM t_shirts WHERE size = 'S' Result of the SQL query 22292\",\n",
       " \"If we have to sell all the Levi’s T-shirts today with discounts applied. How much revenue  our store will generate (post discounts)? SELECT sum(a.total_amount * ((100-COALESCE(discounts.pct_discount,0))/100)) as total_revenue from\\n(select sum(price*stock_quantity) as total_amount, t_shirt_id from t_shirts where brand = 'Levi'\\ngroup by t_shirt_id) a left join discounts on a.t_shirt_id = discounts.t_shirt_id\\n  Result of the SQL query 16725.4\",\n",
       " \"If we have to sell all the Levi’s T-shirts today. How much revenue our store will generate without discount? SELECT SUM(price * stock_quantity) FROM t_shirts WHERE brand = 'Levi' Result of the SQL query 17462\",\n",
       " \"How many white color Levi's shirt I have? SELECT sum(stock_quantity) FROM t_shirts WHERE brand = 'Levi' AND color = 'White' Result of the SQL query 290\",\n",
       " 'how much sales amount will be generated if we sell all large size t shirts today in nike brand after discounts? SELECT sum(a.total_amount * ((100-COALESCE(discounts.pct_discount,0))/100)) as total_revenue from\\n(select sum(price*stock_quantity) as total_amount, t_shirt_id from t_shirts where brand = \\'Nike\\' and size=\"L\"\\ngroup by t_shirt_id) a left join discounts on a.t_shirt_id = discounts.t_shirt_id\\n  Result of the SQL query 290']"
      ]
     },
     "execution_count": 63,
     "metadata": {},
     "output_type": "execute_result"
    }
   ],
   "source": [
    "to_vectorize"
   ]
  },
  {
   "cell_type": "code",
   "execution_count": 42,
   "metadata": {},
   "outputs": [
    {
     "data": {
      "text/plain": [
       "[Document(page_content=\"How many t-shirts do we have left for Nike in XS size and white color? SELECT sum(stock_quantity) FROM t_shirts WHERE brand = 'Nike' AND color = 'White' AND size = 'XS' Result of the SQL query 91\", metadata={}),\n",
       " Document(page_content=\"How much is the total price of the inventory for all S-size t-shirts? SELECT SUM(price*stock_quantity) FROM t_shirts WHERE size = 'S' Result of the SQL query 22292\", metadata={}),\n",
       " Document(page_content=\"If we have to sell all the Levi’s T-shirts today with discounts applied. How much revenue  our store will generate (post discounts)? SELECT sum(a.total_amount * ((100-COALESCE(discounts.pct_discount,0))/100)) as total_revenue from\\n(select sum(price*stock_quantity) as total_amount, t_shirt_id from t_shirts where brand = 'Levi'\\ngroup by t_shirt_id) a left join discounts on a.t_shirt_id = discounts.t_shirt_id\\n  Result of the SQL query 16725.4\", metadata={}),\n",
       " Document(page_content=\"If we have to sell all the Levi’s T-shirts today. How much revenue our store will generate without discount? SELECT SUM(price * stock_quantity) FROM t_shirts WHERE brand = 'Levi' Result of the SQL query 17462\", metadata={}),\n",
       " Document(page_content=\"How many white color Levi's shirt I have? SELECT sum(stock_quantity) FROM t_shirts WHERE brand = 'Levi' AND color = 'White' Result of the SQL query 290\", metadata={}),\n",
       " Document(page_content='how much sales amount will be generated if we sell all large size t shirts today in nike brand after discounts? SELECT sum(a.total_amount * ((100-COALESCE(discounts.pct_discount,0))/100)) as total_revenue from\\n(select sum(price*stock_quantity) as total_amount, t_shirt_id from t_shirts where brand = \\'Nike\\' and size=\"L\"\\ngroup by t_shirt_id) a left join discounts on a.t_shirt_id = discounts.t_shirt_id\\n  Result of the SQL query 290', metadata={})]"
      ]
     },
     "execution_count": 42,
     "metadata": {},
     "output_type": "execute_result"
    }
   ],
   "source": [
    "docs"
   ]
  },
  {
   "cell_type": "code",
   "execution_count": 22,
   "metadata": {},
   "outputs": [],
   "source": [
    "vectorstore_openai = FAISS.from_documents(docs, embeddings)"
   ]
  },
  {
   "cell_type": "code",
   "execution_count": 24,
   "metadata": {},
   "outputs": [
    {
     "data": {
      "text/plain": [
       "[{'Question': 'Get the total number of decisions and average processing time per hearing office where RPTG_PRD_ENDT is after 2024-04-26.',\n",
       "  'SQLQuery': \"SELECT jdd.HEARING_OFFICE, SUM(jdd.TOTAL_DECISIONS) AS Total_Decisions, AVG(fat.AVERAGE_PROCESSING_TIME) AS Avg_Processing_Time FROM jdd JOIN fat ON jdd.HEARING_OFFICE = fat.HEARING_OFFICE WHERE jdd.RPTG_PRD_ENDT = '2024-04-26' AND fat.RPTG_PRD_ENDT = '2024-04-26' GROUP BY jdd.HEARING_OFFICE;\",\n",
       "  'SQLResult': 'Result of the SQL query',\n",
       "  'Answer': \"('AKRON OH', 1762.0, 249.0)\\n('ALBANY', 1517.0, 361.0)\\n('ALBUQUERQUE', 878.0, 309.0)\\n('ALEXANDRIA', 1536.0, 356.0)\\n('ATLANTA DOWNTOWN', 1642.0, 409.0)\\n('ATLANTA NORTH', 1054.0, 313.0)\\n('BALTIMORE', 1251.0, 532.0)\\n('BILLINGS', 826.0, 418.0)\\n('BIRMINGHAM', 1733.0, 299.0)\\n('BOSTON', 874.0, 366.0)\\n('BRONX', 810.0, 520.0)\\n('BUFFALO', 1140.0, 383.0)\\n('CHARLESTON SC', 777.0, 407.0)\\n('CHARLESTON WV', 1115.0, 314.0)\\n('CHARLOTTE', 1751.0, 378.0)\\n('CHARLOTTESVILLE', 596.0, 369.0)\\n('CHATTANOOGA', 1331.0, 336.0)\\n('CHICAGO', 1936.0, 300.0)\\n('CINCINNATI', 1161.0, 308.0)\\n('CLEVELAND', 2409.0, 278.0)\\n('COLORADO SPRINGS', 1026.0, 355.0)\\n('COLUMBIA MO', 549.0, 374.0)\\n('COLUMBIA SC', 1856.0, 274.0)\\n('COLUMBUS', 1836.0, 310.0)\\n('COVINGTON GA', 1348.0, 389.0)\\n('DALLAS DOWNTOWN', 1209.0, 354.0)\\n('DALLAS NORTH OHO', 2453.0, 347.0)\\n('DAYTON', 900.0, 319.0)\\n('DENVER', 1665.0, 349.0)\\n('DES MOINES', 1447.0, 303.0)\\n('DETROIT', 1686.0, 325.0)\\n('DOVER', 431.0, 435.0)\\n('ELKINS PARK', 1828.0, 336.0)\\n('EUGENE', 901.0, 429.0)\\n('EVANSTON', 1708.0, 297.0)\\n('EVANSVILLE', 1215.0, 246.0)\\n('FARGO', 906.0, 326.0)\\n('FAYETTEVILLE NC', 1579.0, 323.0)\\n('FLINT', 1444.0, 315.0)\\n('FLORENCE', 916.0, 268.0)\\n('FORT MYERS FL', 807.0, 305.0)\\n('FORT SMITH', 1043.0, 287.0)\\n('FORT WAYNE', 1120.0, 264.0)\\n('FORT WORTH', 1577.0, 330.0)\\n('FRANKLIN TN', 1730.0, 256.0)\\n('FRESNO', 850.0, 555.0)\\n('FT LAUDERDALE', 1837.0, 298.0)\\n('GRAND RAPIDS', 1450.0, 251.0)\\n('GREENSBORO', 1368.0, 388.0)\\n('GREENVILLE', 1429.0, 271.0)\\n('HARRISBURG', 951.0, 432.0)\\n('HARTFORD', 1091.0, 315.0)\\n('HATTIESBURG', 1451.0, 281.0)\\n('HONOLULU', 613.0, 544.0)\\n('HOUSTON NORTH', 2101.0, 249.0)\\n('HOUSTON WEST', 1498.0, 342.0)\\n('HUNTINGTON WV', 931.0, 393.0)\\n('INDIANAPOLIS', 2671.0, 330.0)\\n('JACKSON MS OHO', 759.0, 264.0)\\n('JACKSONVILLE', 1728.0, 307.0)\\n('JERSEY CITY', 1463.0, 328.0)\\n('JOHNSTOWN', 843.0, 370.0)\\n('KANSAS CITY', 2290.0, 314.0)\\n('KINGSPORT', 1533.0, 252.0)\\n('KNOXVILLE', 1229.0, 294.0)\\n('LANSING', 1294.0, 272.0)\\n('LAS VEGAS', 909.0, 423.0)\\n('LAWRENCE MA', 992.0, 450.0)\\n('LEXINGTON', 2297.0, 291.0)\\n('LITTLE ROCK', 1558.0, 440.0)\\n('LIVONIA MI', 1572.0, 283.0)\\n('LONG BEACH', 375.0, 427.0)\\n('LONG ISLAND', 1168.0, 358.0)\\n('LOS ANGELES DOWNTOWN', 667.0, 481.0)\\n('LOS ANGELES WEST', 1119.0, 420.0)\\n('LOUISVILLE', 1530.0, 313.0)\\n('MACON', 1278.0, 323.0)\\n('MADISON', 1174.0, 278.0)\\n('MANCHESTER', 1304.0, 371.0)\\n('MCALESTER', 548.0, 318.0)\\n('MEMPHIS', 1372.0, 392.0)\\n('METAIRIE', 932.0, 371.0)\\n('MIAMI OHO', 1032.0, 331.0)\\n('MIDDLESBORO', 801.0, 289.0)\\n('MILWAUKEE', 986.0, 317.0)\\n('MINNEAPOLIS', 1985.0, 305.0)\\n('MOBILE', 1522.0, 278.0)\\n('MONTGOMERY', 1412.0, 261.0)\\n('MORENO VALLEY', 1072.0, 472.0)\\n('MORGANTOWN', 879.0, 334.0)\\n('MT PLEASANT MI', 1059.0, 328.0)\\n('NASHVILLE', 1068.0, 253.0)\\n('NEW HAVEN', 923.0, 334.0)\\n('NEW ORLEANS', 974.0, 366.0)\\n('NEW YORK', 1006.0, 413.0)\\n('NEW YORK VARICK', 590.0, 312.0)\\n('NEWARK', 1581.0, 414.0)\\n('NORFOLK', 1006.0, 423.0)\\n('NORWALK', 852.0, 338.0)\\n('OAK BROOK', 720.0, 298.0)\\n('OAK PARK', 1751.0, 271.0)\\n('OAKLAND', 928.0, 563.0)\\n('OKLAHOMA CITY', 1680.0, 515.0)\\n('OMAHA', 1180.0, 289.0)\\n('ORANGE', 1219.0, 381.0)\\n('ORLAND PARK', 1726.0, 319.0)\\n('ORLANDO', 1822.0, 329.0)\\n('PADUCAH', 817.0, 259.0)\\n('PASADENA', 888.0, 393.0)\\n('PEORIA', 985.0, 283.0)\\n('PHILADELPHIA', 1070.0, 364.0)\\n('PHILADELPHIA EAST', 428.0, 576.0)\\n('PHOENIX DOWNTOWN', 1055.0, 339.0)\\n('PHOENIX NORTH', 655.0, 418.0)\\n('PITTSBURGH', 1098.0, 383.0)\\n('PONCE', 378.0, 709.0)\\n('PORTLAND ME', 674.0, 378.0)\\n('PORTLAND OR', 1688.0, 385.0)\\n('PROVIDENCE', 1238.0, 282.0)\\n('QUEENS', 842.0, 428.0)\\n('RALEIGH', 2060.0, 332.0)\\n('RENO', 133.0, 476.0)\\n('RICHMOND', 742.0, 484.0)\\n('RIO GRANDE VALLEY TX', 709.0, 256.0)\\n('ROANOKE', 686.0, 437.0)\\n('ROCHESTER', 560.0, 378.0)\\n('SACRAMENTO', 1274.0, 488.0)\\n('SALT LAKE CITY', 1069.0, 314.0)\\n('SAN ANTONIO', 2925.0, 333.0)\\n('SAN BERNARDINO', 1035.0, 324.0)\\n('SAN DIEGO', 1039.0, 495.0)\\n('SAN FRANCISCO', 789.0, 436.0)\\n('SAN JOSE', 551.0, 487.0)\\n('SAN JUAN', 1367.0, 575.0)\\n('SAN RAFAEL', 515.0, 376.0)\\n('SANTA BARBARA', 411.0, 719.0)\\n('SAVANNAH', 929.0, 364.0)\\n('SEATTLE', 1471.0, 529.0)\\n('SEVEN FIELDS', 1409.0, 313.0)\\n('SHREVEPORT', 791.0, 494.0)\\n('SOUTH JERSEY', 983.0, 541.0)\\n('SPECIAL REVIEW CADRE', 1323.0, 417.0)\\n('SPOKANE', 916.0, 396.0)\\n('SPRINGFIELD MA', 672.0, 404.0)\\n('SPRINGFIELD MO', 1082.0, 318.0)\\n('ST LOUIS', 2467.0, 371.0)\\n('ST PETERSBURG FL OHO', 1156.0, 265.0)\\n('STOCKTON', 457.0, 439.0)\\n('SYRACUSE', 1576.0, 290.0)\\n('TACOMA', 792.0, 353.0)\\n('TALLAHASSEE FL OHO', 1000.0, 263.0)\\n('TAMPA OHO', 2121.0, 328.0)\\n('TOLEDO OH', 1331.0, 284.0)\\n('TOPEKA KS', 518.0, 253.0)\\n('TUCSON', 889.0, 355.0)\\n('TULSA OHO', 1281.0, 312.0)\\n('TUPELO', 812.0, 241.0)\\n('VALPARAISO IN', 1023.0, 285.0)\\n('WASHINGTON', 1294.0, 450.0)\\n('WHITE PLAINS', 1125.0, 294.0)\\n('WICHITA', 546.0, 359.0)\\n('WILKES BARRE', 1620.0, 396.0)\"},\n",
       " {'Question': 'Calculate the total number of ALJ dispositions across all offices grouped by region.',\n",
       "  'SQLQuery': \"SELECT jdd.REGION, SUM(jdd.TOTAL_ALJ_DIPOSITIONS_ACROSS_ALL_OFFICES) AS Total_ALJ_Dispositions FROM jddWHERE RPTG_PRD_ENDT = '2024-04-26' AND RPTG_PRD_STDT = '2023-09-30' GROUP BY jdd.REGION;\",\n",
       "  'SQLResult': 'Result of the SQL query',\n",
       "  'Answer': '(1.0, 11125.0)\\n(2.0, 21007.0)\\n(3.0, 24520.0)\\n(4.0, 67358.0)\\n(5.0, 46116.0)\\n(6.0, 36234.0)\\n(7.0, 12592.0)\\n(8.0, 6960.0)\\n(9.0, 28772.0)\\n(10.0, 8360.0)\\n(12.0, 8928.0)'}]"
      ]
     },
     "execution_count": 24,
     "metadata": {},
     "output_type": "execute_result"
    }
   ],
   "source": [
    "vectorstore =vectorstore_openai\n",
    "example_selector = SemanticSimilarityExampleSelector.from_examples(examples=few_shots,embeddings= embeddings,\n",
    "    vectorstore_cls=FAISS,\n",
    "    k=2,\n",
    ")\n",
    "\n",
    "example_selector.select_examples({\"Question\": \"How many hearing offices are there in total?\"})"
   ]
  },
  {
   "cell_type": "code",
   "execution_count": 47,
   "metadata": {},
   "outputs": [],
   "source": [
    "output = vectorstore.similarity_search(\"How many nike t shirts do we have left in store?\")"
   ]
  },
  {
   "cell_type": "code",
   "execution_count": 48,
   "metadata": {},
   "outputs": [
    {
     "data": {
      "text/plain": [
       "[Document(page_content=\"How many t-shirts do we have left for Nike in XS size and white color? SELECT sum(stock_quantity) FROM t_shirts WHERE brand = 'Nike' AND color = 'White' AND size = 'XS' Result of the SQL query 91\", metadata={}),\n",
       " Document(page_content=\"If we have to sell all the Levi’s T-shirts today. How much revenue our store will generate without discount? SELECT SUM(price * stock_quantity) FROM t_shirts WHERE brand = 'Levi' Result of the SQL query 17462\", metadata={}),\n",
       " Document(page_content='how much sales amount will be generated if we sell all large size t shirts today in nike brand after discounts? SELECT sum(a.total_amount * ((100-COALESCE(discounts.pct_discount,0))/100)) as total_revenue from\\n(select sum(price*stock_quantity) as total_amount, t_shirt_id from t_shirts where brand = \\'Nike\\' and size=\"L\"\\ngroup by t_shirt_id) a left join discounts on a.t_shirt_id = discounts.t_shirt_id\\n  Result of the SQL query 290', metadata={}),\n",
       " Document(page_content=\"How many white color Levi's shirt I have? SELECT sum(stock_quantity) FROM t_shirts WHERE brand = 'Levi' AND color = 'White' Result of the SQL query 290\", metadata={})]"
      ]
     },
     "execution_count": 48,
     "metadata": {},
     "output_type": "execute_result"
    }
   ],
   "source": [
    "output"
   ]
  },
  {
   "cell_type": "code",
   "execution_count": null,
   "metadata": {},
   "outputs": [],
   "source": [
    "def generate_embeddings(text):\n",
    "    return embeddings.encode(text)"
   ]
  },
  {
   "cell_type": "code",
   "execution_count": 26,
   "metadata": {},
   "outputs": [],
   "source": [
    "### my sql based instruction prompt\n",
    "mysql_prompt = \"\"\"You are a MySQL expert. Given an input question, first create a syntactically correct MySQL query to run, then look at the results of the query and return the answer to the input question.\n",
    "Unless the user specifies in the question a specific number of examples to obtain, query for at most {top_k} results using the LIMIT clause as per MySQL. You can order the results to return the most informative data in the database.\n",
    "Never query for all columns from a table. You must query only the columns that are needed to answer the question. Wrap each column name in backticks (`) to denote them as delimited identifiers.\n",
    "Pay attention to use only the column names you can see in the tables below. Be careful to not query for columns that do not exist. Also, pay attention to which column is in which table.\n",
    "Pay attention to use CURDATE() function to get the current date, if the question involves \"today\".\n",
    "\n",
    "Use the following format:\n",
    "\n",
    "Question: Question here\n",
    "SQLQuery: Query to run with no pre-amble\n",
    "SQLResult: Result of the SQLQuery\n",
    "Answer: Final answer here\n",
    "\n",
    "Database Schema:\n",
    "\n",
    " Column('Primary', String, primary_key=True),\n",
    " Column('RPTG_PRD_ENDT',Date ) Enddate for reporting,\n",
    " Column('FULLY_FAVORABLE', Float),\n",
    " Column('JUDGE', String),\n",
    " Column('HEARING_OFFICE',String ),\n",
    " Column('PARTIALLY_FAVORABLE',Float ),\n",
    " Column('REGION', Float),\n",
    " Column('TOTAL_ALJ_DIPOSITIONS_ACROSS_ALL_OFFICES',Float ),\n",
    " Column('TOTAL_AWARDS', Float),\n",
    " Column('TOTAL_DECISIONS',Float ),\n",
    " Column('RPTG_PRD_STDT',Date ) Startdate for reporting,\n",
    " Column('TOTAL_DENIALS', Float),\n",
    " Column('TOTAL_DISPOSITIONS',Float )\n",
    "\n",
    " Column('HEARING_OFFICE',String, ForeignKey('jdd.HEARING_OFFICE')),\n",
    " Column('AVG_Ptime_RANK',Float ),\n",
    " Column('HEARING_OFFICE_TIMES_IN_MONTHS',Float ),\n",
    " Column('HO_CODE',Float ),\n",
    " Column('SITE_CODE',String , primary_key=True),\n",
    " Column('RPTG_PRD_ENDT',Date ) Enddate for reporting,\n",
    " Column('ALJ_DISPS_PER_DAY_PER_ALJ', Float),\n",
    " Column('DISP_RANK', Float),\n",
    " Column('WORKDAYS', Float),\n",
    " Column('AVERAGE_PROCESSING_TIME', Float),\n",
    " Column('CASES_PENDING',Float ),\n",
    " Column('DISPOSITIONS:',Float ),\n",
    " Column('RECEIPTS', Float),\n",
    " Column('RPTG_PRD_STDT',Date ) Startdate for reporting\n",
    "\n",
    "No pre-amble.\n",
    "\"\"\""
   ]
  },
  {
   "cell_type": "code",
   "execution_count": 27,
   "metadata": {},
   "outputs": [
    {
     "name": "stdout",
     "output_type": "stream",
     "text": [
      "Only use the following tables:\n",
      "{table_info}\n",
      "\n",
      "Question: {input}\n"
     ]
    }
   ],
   "source": [
    "from langchain.prompts import FewShotPromptTemplate\n",
    "from langchain.chains.sql_database.prompt import PROMPT_SUFFIX, _mysql_prompt\n",
    "\n",
    "print(PROMPT_SUFFIX)"
   ]
  },
  {
   "cell_type": "code",
   "execution_count": 28,
   "metadata": {},
   "outputs": [],
   "source": [
    "from langchain.prompts.prompt import PromptTemplate\n",
    "\n",
    "example_prompt = PromptTemplate(\n",
    "    input_variables=[\"Question\", \"SQLQuery\", \"SQLResult\",\"Answer\",],\n",
    "    template=\"\\nQuestion: {Question}\\nSQLQuery: {SQLQuery}\\nSQLResult: {SQLResult}\\nAnswer: {Answer}\",\n",
    ")"
   ]
  },
  {
   "cell_type": "code",
   "execution_count": 29,
   "metadata": {},
   "outputs": [],
   "source": [
    "few_shot_prompt = FewShotPromptTemplate(\n",
    "    example_selector=example_selector,\n",
    "    example_prompt=example_prompt,\n",
    "    prefix=mysql_prompt,\n",
    "    suffix=PROMPT_SUFFIX,\n",
    "    input_variables=[\"input\", \"table_info\", \"top_k\"], #These variables are used in the prefix and suffix\n",
    ")"
   ]
  },
  {
   "cell_type": "code",
   "execution_count": 30,
   "metadata": {},
   "outputs": [],
   "source": [
    "new_chain = SQLDatabaseChain.from_llm(llm, db, verbose=True, prompt=few_shot_prompt)"
   ]
  },
  {
   "cell_type": "code",
   "execution_count": 31,
   "metadata": {},
   "outputs": [
    {
     "name": "stdout",
     "output_type": "stream",
     "text": [
      "\n",
      "\n",
      "\u001b[1m> Entering new SQLDatabaseChain chain...\u001b[0m\n",
      "Calculate the average number of ALJ dispositions per day per ALJ for each region.\n",
      "SQLQuery:\u001b[32;1m\u001b[1;3mSELECT jdd.REGION, AVG(fat.ALJ_DISPS_PER_DAY_PER_ALJ) AS Avg_Dispositions_Per_Day_Per_ALJ FROM jdd JOIN fat ON jdd.HEARING_OFFICE = fat.HEARING_OFFICE WHERE jdd.RPTG_PRD_ENDT = '2024-04-26' AND jdd.RPTG_PRD_STDT = '2023-09-30' GROUP BY jdd.REGION;\u001b[0m\n",
      "SQLResult: \u001b[33;1m\u001b[1;3m[(1.0, 1.5686206896551733), (2.0, 1.3401562500000002), (3.0, 1.5584375000000006), (4.0, 1.4300558659217875), (5.0, 1.731504854368932), (6.0, 1.6405847953216386), (7.0, 1.6262686567164184), (8.0, 1.8066666666666669), (9.0, 1.592666666666667), (10.0, 1.7065789473684205), (12.0, 1.0999999999999999)]\u001b[0m\n",
      "Answer:\u001b[32;1m\u001b[1;3m(1.0, 1.5686206896551733)\u001b[0m\n",
      "\u001b[1m> Finished chain.\u001b[0m\n"
     ]
    },
    {
     "data": {
      "text/plain": [
       "{'query': 'Calculate the average number of ALJ dispositions per day per ALJ for each region.',\n",
       " 'result': '(1.0, 1.5686206896551733)'}"
      ]
     },
     "execution_count": 31,
     "metadata": {},
     "output_type": "execute_result"
    }
   ],
   "source": [
    "new_chain(\"Calculate the average number of ALJ dispositions per day per ALJ for each region.\")"
   ]
  }
 ],
 "metadata": {
  "kernelspec": {
   "display_name": "sqb",
   "language": "python",
   "name": "python3"
  },
  "language_info": {
   "codemirror_mode": {
    "name": "ipython",
    "version": 3
   },
   "file_extension": ".py",
   "mimetype": "text/x-python",
   "name": "python",
   "nbconvert_exporter": "python",
   "pygments_lexer": "ipython3",
   "version": "3.10.10"
  }
 },
 "nbformat": 4,
 "nbformat_minor": 2
}
